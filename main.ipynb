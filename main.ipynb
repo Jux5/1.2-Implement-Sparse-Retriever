{
 "cells": [
  {
   "cell_type": "code",
   "execution_count": 11,
   "metadata": {},
   "outputs": [
    {
     "name": "stdout",
     "output_type": "stream",
     "text": [
      "Requirement already satisfied: haystack-ai==2.7.0 in ./.venv/lib/python3.12/site-packages (from -r requirements.txt (line 1)) (2.7.0)\n",
      "Requirement already satisfied: unstructured-fileconverter-haystack==0.4.1 in ./.venv/lib/python3.12/site-packages (from -r requirements.txt (line 2)) (0.4.1)\n",
      "Requirement already satisfied: qdrant-haystack==7.0.0 in ./.venv/lib/python3.12/site-packages (from -r requirements.txt (line 3)) (7.0.0)\n",
      "Requirement already satisfied: sentence-transformers==3.3.0 in ./.venv/lib/python3.12/site-packages (from -r requirements.txt (line 4)) (3.3.0)\n",
      "Requirement already satisfied: python-dotenv==1.0.1 in ./.venv/lib/python3.12/site-packages (from -r requirements.txt (line 5)) (1.0.1)\n",
      "Requirement already satisfied: fastembed-haystack==1.4.1 in ./.venv/lib/python3.12/site-packages (from -r requirements.txt (line 6)) (1.4.1)\n",
      "Requirement already satisfied: ollama-haystack==2.1.0 in ./.venv/lib/python3.12/site-packages (from -r requirements.txt (line 7)) (2.1.0)\n",
      "Requirement already satisfied: accelerate==0.26.0 in ./.venv/lib/python3.12/site-packages (from -r requirements.txt (line 8)) (0.26.0)\n",
      "Requirement already satisfied: datasets==3.1.0 in ./.venv/lib/python3.12/site-packages (from -r requirements.txt (line 9)) (3.1.0)\n",
      "Requirement already satisfied: huggingface_hub==0.26.5 in ./.venv/lib/python3.12/site-packages (from -r requirements.txt (line 10)) (0.26.5)\n",
      "Requirement already satisfied: bitsandbytes==0.45.0 in ./.venv/lib/python3.12/site-packages (from -r requirements.txt (line 11)) (0.45.0)\n",
      "Requirement already satisfied: nvcc4jupyter==1.2.1 in ./.venv/lib/python3.12/site-packages (from -r requirements.txt (line 12)) (1.2.1)\n",
      "Requirement already satisfied: haystack-experimental in ./.venv/lib/python3.12/site-packages (from haystack-ai==2.7.0->-r requirements.txt (line 1)) (0.3.0)\n",
      "Requirement already satisfied: jinja2 in ./.venv/lib/python3.12/site-packages (from haystack-ai==2.7.0->-r requirements.txt (line 1)) (3.1.4)\n",
      "Requirement already satisfied: lazy-imports in ./.venv/lib/python3.12/site-packages (from haystack-ai==2.7.0->-r requirements.txt (line 1)) (0.3.1)\n",
      "Requirement already satisfied: more-itertools in ./.venv/lib/python3.12/site-packages (from haystack-ai==2.7.0->-r requirements.txt (line 1)) (10.5.0)\n",
      "Requirement already satisfied: networkx in ./.venv/lib/python3.12/site-packages (from haystack-ai==2.7.0->-r requirements.txt (line 1)) (3.4.2)\n",
      "Requirement already satisfied: numpy in ./.venv/lib/python3.12/site-packages (from haystack-ai==2.7.0->-r requirements.txt (line 1)) (1.26.4)\n",
      "Requirement already satisfied: openai>=1.1.0 in ./.venv/lib/python3.12/site-packages (from haystack-ai==2.7.0->-r requirements.txt (line 1)) (1.57.0)\n",
      "Requirement already satisfied: pandas in ./.venv/lib/python3.12/site-packages (from haystack-ai==2.7.0->-r requirements.txt (line 1)) (2.2.3)\n",
      "Requirement already satisfied: posthog in ./.venv/lib/python3.12/site-packages (from haystack-ai==2.7.0->-r requirements.txt (line 1)) (3.7.4)\n",
      "Requirement already satisfied: python-dateutil in ./.venv/lib/python3.12/site-packages (from haystack-ai==2.7.0->-r requirements.txt (line 1)) (2.9.0.post0)\n",
      "Requirement already satisfied: pyyaml in ./.venv/lib/python3.12/site-packages (from haystack-ai==2.7.0->-r requirements.txt (line 1)) (6.0.2)\n",
      "Requirement already satisfied: requests in ./.venv/lib/python3.12/site-packages (from haystack-ai==2.7.0->-r requirements.txt (line 1)) (2.32.3)\n",
      "Requirement already satisfied: tenacity!=8.4.0 in ./.venv/lib/python3.12/site-packages (from haystack-ai==2.7.0->-r requirements.txt (line 1)) (9.0.0)\n",
      "Requirement already satisfied: tqdm in ./.venv/lib/python3.12/site-packages (from haystack-ai==2.7.0->-r requirements.txt (line 1)) (4.67.1)\n",
      "Requirement already satisfied: typing-extensions>=4.7 in ./.venv/lib/python3.12/site-packages (from haystack-ai==2.7.0->-r requirements.txt (line 1)) (4.12.2)\n",
      "Requirement already satisfied: psutil in ./.venv/lib/python3.12/site-packages (from unstructured-fileconverter-haystack==0.4.1->-r requirements.txt (line 2)) (6.1.0)\n",
      "Requirement already satisfied: unstructured in ./.venv/lib/python3.12/site-packages (from unstructured-fileconverter-haystack==0.4.1->-r requirements.txt (line 2)) (0.16.10)\n",
      "Requirement already satisfied: qdrant-client>=1.10.0 in ./.venv/lib/python3.12/site-packages (from qdrant-haystack==7.0.0->-r requirements.txt (line 3)) (1.12.1)\n",
      "Requirement already satisfied: transformers<5.0.0,>=4.41.0 in ./.venv/lib/python3.12/site-packages (from sentence-transformers==3.3.0->-r requirements.txt (line 4)) (4.47.0)\n",
      "Requirement already satisfied: torch>=1.11.0 in ./.venv/lib/python3.12/site-packages (from sentence-transformers==3.3.0->-r requirements.txt (line 4)) (2.5.1)\n",
      "Requirement already satisfied: scikit-learn in ./.venv/lib/python3.12/site-packages (from sentence-transformers==3.3.0->-r requirements.txt (line 4)) (1.5.2)\n",
      "Requirement already satisfied: scipy in ./.venv/lib/python3.12/site-packages (from sentence-transformers==3.3.0->-r requirements.txt (line 4)) (1.14.1)\n",
      "Requirement already satisfied: Pillow in ./.venv/lib/python3.12/site-packages (from sentence-transformers==3.3.0->-r requirements.txt (line 4)) (10.4.0)\n",
      "Requirement already satisfied: fastembed>=0.4.2 in ./.venv/lib/python3.12/site-packages (from fastembed-haystack==1.4.1->-r requirements.txt (line 6)) (0.4.2)\n",
      "Requirement already satisfied: ollama>=0.4.0 in ./.venv/lib/python3.12/site-packages (from ollama-haystack==2.1.0->-r requirements.txt (line 7)) (0.4.4)\n",
      "Requirement already satisfied: packaging>=20.0 in ./.venv/lib/python3.12/site-packages (from accelerate==0.26.0->-r requirements.txt (line 8)) (24.2)\n",
      "Requirement already satisfied: safetensors>=0.3.1 in ./.venv/lib/python3.12/site-packages (from accelerate==0.26.0->-r requirements.txt (line 8)) (0.4.5)\n",
      "Requirement already satisfied: filelock in ./.venv/lib/python3.12/site-packages (from datasets==3.1.0->-r requirements.txt (line 9)) (3.16.1)\n",
      "Requirement already satisfied: pyarrow>=15.0.0 in ./.venv/lib/python3.12/site-packages (from datasets==3.1.0->-r requirements.txt (line 9)) (18.1.0)\n",
      "Requirement already satisfied: dill<0.3.9,>=0.3.0 in ./.venv/lib/python3.12/site-packages (from datasets==3.1.0->-r requirements.txt (line 9)) (0.3.8)\n",
      "Requirement already satisfied: xxhash in ./.venv/lib/python3.12/site-packages (from datasets==3.1.0->-r requirements.txt (line 9)) (3.5.0)\n",
      "Requirement already satisfied: multiprocess<0.70.17 in ./.venv/lib/python3.12/site-packages (from datasets==3.1.0->-r requirements.txt (line 9)) (0.70.16)\n",
      "Requirement already satisfied: fsspec<=2024.9.0,>=2023.1.0 in ./.venv/lib/python3.12/site-packages (from fsspec[http]<=2024.9.0,>=2023.1.0->datasets==3.1.0->-r requirements.txt (line 9)) (2024.9.0)\n",
      "Requirement already satisfied: aiohttp in ./.venv/lib/python3.12/site-packages (from datasets==3.1.0->-r requirements.txt (line 9)) (3.11.10)\n",
      "Requirement already satisfied: loguru<0.8.0,>=0.7.2 in ./.venv/lib/python3.12/site-packages (from fastembed>=0.4.2->fastembed-haystack==1.4.1->-r requirements.txt (line 6)) (0.7.3)\n",
      "Requirement already satisfied: mmh3<5.0.0,>=4.1.0 in ./.venv/lib/python3.12/site-packages (from fastembed>=0.4.2->fastembed-haystack==1.4.1->-r requirements.txt (line 6)) (4.1.0)\n",
      "Requirement already satisfied: onnx<2.0.0,>=1.15.0 in ./.venv/lib/python3.12/site-packages (from fastembed>=0.4.2->fastembed-haystack==1.4.1->-r requirements.txt (line 6)) (1.17.0)\n",
      "Requirement already satisfied: onnxruntime<1.20.0,>=1.17.0 in ./.venv/lib/python3.12/site-packages (from fastembed>=0.4.2->fastembed-haystack==1.4.1->-r requirements.txt (line 6)) (1.19.2)\n",
      "Requirement already satisfied: py-rust-stemmers<0.2.0,>=0.1.0 in ./.venv/lib/python3.12/site-packages (from fastembed>=0.4.2->fastembed-haystack==1.4.1->-r requirements.txt (line 6)) (0.1.3)\n",
      "Requirement already satisfied: tokenizers<1.0,>=0.15 in ./.venv/lib/python3.12/site-packages (from fastembed>=0.4.2->fastembed-haystack==1.4.1->-r requirements.txt (line 6)) (0.21.0)\n",
      "Requirement already satisfied: aiohappyeyeballs>=2.3.0 in ./.venv/lib/python3.12/site-packages (from aiohttp->datasets==3.1.0->-r requirements.txt (line 9)) (2.4.4)\n",
      "Requirement already satisfied: aiosignal>=1.1.2 in ./.venv/lib/python3.12/site-packages (from aiohttp->datasets==3.1.0->-r requirements.txt (line 9)) (1.3.1)\n",
      "Requirement already satisfied: attrs>=17.3.0 in ./.venv/lib/python3.12/site-packages (from aiohttp->datasets==3.1.0->-r requirements.txt (line 9)) (24.2.0)\n",
      "Requirement already satisfied: frozenlist>=1.1.1 in ./.venv/lib/python3.12/site-packages (from aiohttp->datasets==3.1.0->-r requirements.txt (line 9)) (1.5.0)\n",
      "Requirement already satisfied: multidict<7.0,>=4.5 in ./.venv/lib/python3.12/site-packages (from aiohttp->datasets==3.1.0->-r requirements.txt (line 9)) (6.1.0)\n",
      "Requirement already satisfied: propcache>=0.2.0 in ./.venv/lib/python3.12/site-packages (from aiohttp->datasets==3.1.0->-r requirements.txt (line 9)) (0.2.1)\n",
      "Requirement already satisfied: yarl<2.0,>=1.17.0 in ./.venv/lib/python3.12/site-packages (from aiohttp->datasets==3.1.0->-r requirements.txt (line 9)) (1.18.3)\n",
      "Requirement already satisfied: httpx<0.28.0,>=0.27.0 in ./.venv/lib/python3.12/site-packages (from ollama>=0.4.0->ollama-haystack==2.1.0->-r requirements.txt (line 7)) (0.27.2)\n",
      "Requirement already satisfied: pydantic<3.0.0,>=2.9.0 in ./.venv/lib/python3.12/site-packages (from ollama>=0.4.0->ollama-haystack==2.1.0->-r requirements.txt (line 7)) (2.9.2)\n",
      "Requirement already satisfied: anyio<5,>=3.5.0 in ./.venv/lib/python3.12/site-packages (from openai>=1.1.0->haystack-ai==2.7.0->-r requirements.txt (line 1)) (4.7.0)\n",
      "Requirement already satisfied: distro<2,>=1.7.0 in ./.venv/lib/python3.12/site-packages (from openai>=1.1.0->haystack-ai==2.7.0->-r requirements.txt (line 1)) (1.9.0)\n",
      "Requirement already satisfied: jiter<1,>=0.4.0 in ./.venv/lib/python3.12/site-packages (from openai>=1.1.0->haystack-ai==2.7.0->-r requirements.txt (line 1)) (0.8.0)\n",
      "Requirement already satisfied: sniffio in ./.venv/lib/python3.12/site-packages (from openai>=1.1.0->haystack-ai==2.7.0->-r requirements.txt (line 1)) (1.3.1)\n",
      "Requirement already satisfied: grpcio>=1.41.0 in ./.venv/lib/python3.12/site-packages (from qdrant-client>=1.10.0->qdrant-haystack==7.0.0->-r requirements.txt (line 3)) (1.68.1)\n",
      "Requirement already satisfied: grpcio-tools>=1.41.0 in ./.venv/lib/python3.12/site-packages (from qdrant-client>=1.10.0->qdrant-haystack==7.0.0->-r requirements.txt (line 3)) (1.68.1)\n",
      "Requirement already satisfied: portalocker<3.0.0,>=2.7.0 in ./.venv/lib/python3.12/site-packages (from qdrant-client>=1.10.0->qdrant-haystack==7.0.0->-r requirements.txt (line 3)) (2.10.1)\n",
      "Requirement already satisfied: urllib3<3,>=1.26.14 in ./.venv/lib/python3.12/site-packages (from qdrant-client>=1.10.0->qdrant-haystack==7.0.0->-r requirements.txt (line 3)) (2.2.3)\n",
      "Requirement already satisfied: charset-normalizer<4,>=2 in ./.venv/lib/python3.12/site-packages (from requests->haystack-ai==2.7.0->-r requirements.txt (line 1)) (3.4.0)\n",
      "Requirement already satisfied: idna<4,>=2.5 in ./.venv/lib/python3.12/site-packages (from requests->haystack-ai==2.7.0->-r requirements.txt (line 1)) (3.10)\n",
      "Requirement already satisfied: certifi>=2017.4.17 in ./.venv/lib/python3.12/site-packages (from requests->haystack-ai==2.7.0->-r requirements.txt (line 1)) (2024.8.30)\n",
      "Requirement already satisfied: nvidia-cuda-nvrtc-cu12==12.4.127 in ./.venv/lib/python3.12/site-packages (from torch>=1.11.0->sentence-transformers==3.3.0->-r requirements.txt (line 4)) (12.4.127)\n",
      "Requirement already satisfied: nvidia-cuda-runtime-cu12==12.4.127 in ./.venv/lib/python3.12/site-packages (from torch>=1.11.0->sentence-transformers==3.3.0->-r requirements.txt (line 4)) (12.4.127)\n",
      "Requirement already satisfied: nvidia-cuda-cupti-cu12==12.4.127 in ./.venv/lib/python3.12/site-packages (from torch>=1.11.0->sentence-transformers==3.3.0->-r requirements.txt (line 4)) (12.4.127)\n",
      "Requirement already satisfied: nvidia-cudnn-cu12==9.1.0.70 in ./.venv/lib/python3.12/site-packages (from torch>=1.11.0->sentence-transformers==3.3.0->-r requirements.txt (line 4)) (9.1.0.70)\n",
      "Requirement already satisfied: nvidia-cublas-cu12==12.4.5.8 in ./.venv/lib/python3.12/site-packages (from torch>=1.11.0->sentence-transformers==3.3.0->-r requirements.txt (line 4)) (12.4.5.8)\n",
      "Requirement already satisfied: nvidia-cufft-cu12==11.2.1.3 in ./.venv/lib/python3.12/site-packages (from torch>=1.11.0->sentence-transformers==3.3.0->-r requirements.txt (line 4)) (11.2.1.3)\n",
      "Requirement already satisfied: nvidia-curand-cu12==10.3.5.147 in ./.venv/lib/python3.12/site-packages (from torch>=1.11.0->sentence-transformers==3.3.0->-r requirements.txt (line 4)) (10.3.5.147)\n",
      "Requirement already satisfied: nvidia-cusolver-cu12==11.6.1.9 in ./.venv/lib/python3.12/site-packages (from torch>=1.11.0->sentence-transformers==3.3.0->-r requirements.txt (line 4)) (11.6.1.9)\n",
      "Requirement already satisfied: nvidia-cusparse-cu12==12.3.1.170 in ./.venv/lib/python3.12/site-packages (from torch>=1.11.0->sentence-transformers==3.3.0->-r requirements.txt (line 4)) (12.3.1.170)\n",
      "Requirement already satisfied: nvidia-nccl-cu12==2.21.5 in ./.venv/lib/python3.12/site-packages (from torch>=1.11.0->sentence-transformers==3.3.0->-r requirements.txt (line 4)) (2.21.5)\n",
      "Requirement already satisfied: nvidia-nvtx-cu12==12.4.127 in ./.venv/lib/python3.12/site-packages (from torch>=1.11.0->sentence-transformers==3.3.0->-r requirements.txt (line 4)) (12.4.127)\n",
      "Requirement already satisfied: nvidia-nvjitlink-cu12==12.4.127 in ./.venv/lib/python3.12/site-packages (from torch>=1.11.0->sentence-transformers==3.3.0->-r requirements.txt (line 4)) (12.4.127)\n",
      "Requirement already satisfied: triton==3.1.0 in ./.venv/lib/python3.12/site-packages (from torch>=1.11.0->sentence-transformers==3.3.0->-r requirements.txt (line 4)) (3.1.0)\n",
      "Requirement already satisfied: setuptools in ./.venv/lib/python3.12/site-packages (from torch>=1.11.0->sentence-transformers==3.3.0->-r requirements.txt (line 4)) (75.6.0)\n",
      "Requirement already satisfied: sympy==1.13.1 in ./.venv/lib/python3.12/site-packages (from torch>=1.11.0->sentence-transformers==3.3.0->-r requirements.txt (line 4)) (1.13.1)\n",
      "Requirement already satisfied: mpmath<1.4,>=1.1.0 in ./.venv/lib/python3.12/site-packages (from sympy==1.13.1->torch>=1.11.0->sentence-transformers==3.3.0->-r requirements.txt (line 4)) (1.3.0)\n",
      "Requirement already satisfied: regex!=2019.12.17 in ./.venv/lib/python3.12/site-packages (from transformers<5.0.0,>=4.41.0->sentence-transformers==3.3.0->-r requirements.txt (line 4)) (2024.11.6)\n",
      "Requirement already satisfied: MarkupSafe>=2.0 in ./.venv/lib/python3.12/site-packages (from jinja2->haystack-ai==2.7.0->-r requirements.txt (line 1)) (3.0.2)\n",
      "Requirement already satisfied: pytz>=2020.1 in ./.venv/lib/python3.12/site-packages (from pandas->haystack-ai==2.7.0->-r requirements.txt (line 1)) (2024.2)\n",
      "Requirement already satisfied: tzdata>=2022.7 in ./.venv/lib/python3.12/site-packages (from pandas->haystack-ai==2.7.0->-r requirements.txt (line 1)) (2024.2)\n",
      "Requirement already satisfied: six>=1.5 in ./.venv/lib/python3.12/site-packages (from python-dateutil->haystack-ai==2.7.0->-r requirements.txt (line 1)) (1.17.0)\n",
      "Requirement already satisfied: monotonic>=1.5 in ./.venv/lib/python3.12/site-packages (from posthog->haystack-ai==2.7.0->-r requirements.txt (line 1)) (1.6)\n",
      "Requirement already satisfied: backoff>=1.10.0 in ./.venv/lib/python3.12/site-packages (from posthog->haystack-ai==2.7.0->-r requirements.txt (line 1)) (2.2.1)\n",
      "Requirement already satisfied: joblib>=1.2.0 in ./.venv/lib/python3.12/site-packages (from scikit-learn->sentence-transformers==3.3.0->-r requirements.txt (line 4)) (1.4.2)\n",
      "Requirement already satisfied: threadpoolctl>=3.1.0 in ./.venv/lib/python3.12/site-packages (from scikit-learn->sentence-transformers==3.3.0->-r requirements.txt (line 4)) (3.5.0)\n",
      "Requirement already satisfied: chardet in ./.venv/lib/python3.12/site-packages (from unstructured->unstructured-fileconverter-haystack==0.4.1->-r requirements.txt (line 2)) (5.2.0)\n",
      "Requirement already satisfied: filetype in ./.venv/lib/python3.12/site-packages (from unstructured->unstructured-fileconverter-haystack==0.4.1->-r requirements.txt (line 2)) (1.2.0)\n",
      "Requirement already satisfied: python-magic in ./.venv/lib/python3.12/site-packages (from unstructured->unstructured-fileconverter-haystack==0.4.1->-r requirements.txt (line 2)) (0.4.27)\n",
      "Requirement already satisfied: lxml in ./.venv/lib/python3.12/site-packages (from unstructured->unstructured-fileconverter-haystack==0.4.1->-r requirements.txt (line 2)) (5.3.0)\n",
      "Requirement already satisfied: nltk in ./.venv/lib/python3.12/site-packages (from unstructured->unstructured-fileconverter-haystack==0.4.1->-r requirements.txt (line 2)) (3.9.1)\n",
      "Requirement already satisfied: beautifulsoup4 in ./.venv/lib/python3.12/site-packages (from unstructured->unstructured-fileconverter-haystack==0.4.1->-r requirements.txt (line 2)) (4.12.3)\n",
      "Requirement already satisfied: emoji in ./.venv/lib/python3.12/site-packages (from unstructured->unstructured-fileconverter-haystack==0.4.1->-r requirements.txt (line 2)) (2.14.0)\n",
      "Requirement already satisfied: dataclasses-json in ./.venv/lib/python3.12/site-packages (from unstructured->unstructured-fileconverter-haystack==0.4.1->-r requirements.txt (line 2)) (0.6.7)\n",
      "Requirement already satisfied: python-iso639 in ./.venv/lib/python3.12/site-packages (from unstructured->unstructured-fileconverter-haystack==0.4.1->-r requirements.txt (line 2)) (2024.10.22)\n",
      "Requirement already satisfied: langdetect in ./.venv/lib/python3.12/site-packages (from unstructured->unstructured-fileconverter-haystack==0.4.1->-r requirements.txt (line 2)) (1.0.9)\n",
      "Requirement already satisfied: rapidfuzz in ./.venv/lib/python3.12/site-packages (from unstructured->unstructured-fileconverter-haystack==0.4.1->-r requirements.txt (line 2)) (3.10.1)\n",
      "Requirement already satisfied: unstructured-client in ./.venv/lib/python3.12/site-packages (from unstructured->unstructured-fileconverter-haystack==0.4.1->-r requirements.txt (line 2)) (0.28.1)\n",
      "Requirement already satisfied: wrapt in ./.venv/lib/python3.12/site-packages (from unstructured->unstructured-fileconverter-haystack==0.4.1->-r requirements.txt (line 2)) (1.17.0)\n",
      "Requirement already satisfied: python-oxmsg in ./.venv/lib/python3.12/site-packages (from unstructured->unstructured-fileconverter-haystack==0.4.1->-r requirements.txt (line 2)) (0.0.1)\n",
      "Requirement already satisfied: html5lib in ./.venv/lib/python3.12/site-packages (from unstructured->unstructured-fileconverter-haystack==0.4.1->-r requirements.txt (line 2)) (1.1)\n",
      "Requirement already satisfied: protobuf<6.0dev,>=5.26.1 in ./.venv/lib/python3.12/site-packages (from grpcio-tools>=1.41.0->qdrant-client>=1.10.0->qdrant-haystack==7.0.0->-r requirements.txt (line 3)) (5.29.1)\n",
      "Requirement already satisfied: httpcore==1.* in ./.venv/lib/python3.12/site-packages (from httpx<0.28.0,>=0.27.0->ollama>=0.4.0->ollama-haystack==2.1.0->-r requirements.txt (line 7)) (1.0.7)\n",
      "Requirement already satisfied: h11<0.15,>=0.13 in ./.venv/lib/python3.12/site-packages (from httpcore==1.*->httpx<0.28.0,>=0.27.0->ollama>=0.4.0->ollama-haystack==2.1.0->-r requirements.txt (line 7)) (0.14.0)\n",
      "Requirement already satisfied: h2<5,>=3 in ./.venv/lib/python3.12/site-packages (from httpx[http2]>=0.20.0->qdrant-client>=1.10.0->qdrant-haystack==7.0.0->-r requirements.txt (line 3)) (4.1.0)\n",
      "Requirement already satisfied: coloredlogs in ./.venv/lib/python3.12/site-packages (from onnxruntime<1.20.0,>=1.17.0->fastembed>=0.4.2->fastembed-haystack==1.4.1->-r requirements.txt (line 6)) (15.0.1)\n",
      "Requirement already satisfied: flatbuffers in ./.venv/lib/python3.12/site-packages (from onnxruntime<1.20.0,>=1.17.0->fastembed>=0.4.2->fastembed-haystack==1.4.1->-r requirements.txt (line 6)) (24.3.25)\n",
      "Requirement already satisfied: annotated-types>=0.6.0 in ./.venv/lib/python3.12/site-packages (from pydantic<3.0.0,>=2.9.0->ollama>=0.4.0->ollama-haystack==2.1.0->-r requirements.txt (line 7)) (0.7.0)\n",
      "Requirement already satisfied: pydantic-core==2.23.4 in ./.venv/lib/python3.12/site-packages (from pydantic<3.0.0,>=2.9.0->ollama>=0.4.0->ollama-haystack==2.1.0->-r requirements.txt (line 7)) (2.23.4)\n",
      "Requirement already satisfied: soupsieve>1.2 in ./.venv/lib/python3.12/site-packages (from beautifulsoup4->unstructured->unstructured-fileconverter-haystack==0.4.1->-r requirements.txt (line 2)) (2.6)\n",
      "Requirement already satisfied: marshmallow<4.0.0,>=3.18.0 in ./.venv/lib/python3.12/site-packages (from dataclasses-json->unstructured->unstructured-fileconverter-haystack==0.4.1->-r requirements.txt (line 2)) (3.23.1)\n",
      "Requirement already satisfied: typing-inspect<1,>=0.4.0 in ./.venv/lib/python3.12/site-packages (from dataclasses-json->unstructured->unstructured-fileconverter-haystack==0.4.1->-r requirements.txt (line 2)) (0.9.0)\n",
      "Requirement already satisfied: webencodings in ./.venv/lib/python3.12/site-packages (from html5lib->unstructured->unstructured-fileconverter-haystack==0.4.1->-r requirements.txt (line 2)) (0.5.1)\n",
      "Requirement already satisfied: click in ./.venv/lib/python3.12/site-packages (from nltk->unstructured->unstructured-fileconverter-haystack==0.4.1->-r requirements.txt (line 2)) (8.1.7)\n",
      "Requirement already satisfied: olefile in ./.venv/lib/python3.12/site-packages (from python-oxmsg->unstructured->unstructured-fileconverter-haystack==0.4.1->-r requirements.txt (line 2)) (0.47)\n",
      "Requirement already satisfied: aiofiles>=24.1.0 in ./.venv/lib/python3.12/site-packages (from unstructured-client->unstructured->unstructured-fileconverter-haystack==0.4.1->-r requirements.txt (line 2)) (24.1.0)\n",
      "Requirement already satisfied: cryptography>=3.1 in ./.venv/lib/python3.12/site-packages (from unstructured-client->unstructured->unstructured-fileconverter-haystack==0.4.1->-r requirements.txt (line 2)) (44.0.0)\n",
      "Requirement already satisfied: eval-type-backport<0.3.0,>=0.2.0 in ./.venv/lib/python3.12/site-packages (from unstructured-client->unstructured->unstructured-fileconverter-haystack==0.4.1->-r requirements.txt (line 2)) (0.2.0)\n",
      "Requirement already satisfied: jsonpath-python<2.0.0,>=1.0.6 in ./.venv/lib/python3.12/site-packages (from unstructured-client->unstructured->unstructured-fileconverter-haystack==0.4.1->-r requirements.txt (line 2)) (1.0.6)\n",
      "Requirement already satisfied: nest-asyncio>=1.6.0 in ./.venv/lib/python3.12/site-packages (from unstructured-client->unstructured->unstructured-fileconverter-haystack==0.4.1->-r requirements.txt (line 2)) (1.6.0)\n",
      "Requirement already satisfied: pypdf>=4.0 in ./.venv/lib/python3.12/site-packages (from unstructured-client->unstructured->unstructured-fileconverter-haystack==0.4.1->-r requirements.txt (line 2)) (5.1.0)\n",
      "Requirement already satisfied: requests-toolbelt>=1.0.0 in ./.venv/lib/python3.12/site-packages (from unstructured-client->unstructured->unstructured-fileconverter-haystack==0.4.1->-r requirements.txt (line 2)) (1.0.0)\n",
      "Requirement already satisfied: cffi>=1.12 in ./.venv/lib/python3.12/site-packages (from cryptography>=3.1->unstructured-client->unstructured->unstructured-fileconverter-haystack==0.4.1->-r requirements.txt (line 2)) (1.17.1)\n",
      "Requirement already satisfied: hyperframe<7,>=6.0 in ./.venv/lib/python3.12/site-packages (from h2<5,>=3->httpx[http2]>=0.20.0->qdrant-client>=1.10.0->qdrant-haystack==7.0.0->-r requirements.txt (line 3)) (6.0.1)\n",
      "Requirement already satisfied: hpack<5,>=4.0 in ./.venv/lib/python3.12/site-packages (from h2<5,>=3->httpx[http2]>=0.20.0->qdrant-client>=1.10.0->qdrant-haystack==7.0.0->-r requirements.txt (line 3)) (4.0.0)\n",
      "Requirement already satisfied: mypy-extensions>=0.3.0 in ./.venv/lib/python3.12/site-packages (from typing-inspect<1,>=0.4.0->dataclasses-json->unstructured->unstructured-fileconverter-haystack==0.4.1->-r requirements.txt (line 2)) (1.0.0)\n",
      "Requirement already satisfied: humanfriendly>=9.1 in ./.venv/lib/python3.12/site-packages (from coloredlogs->onnxruntime<1.20.0,>=1.17.0->fastembed>=0.4.2->fastembed-haystack==1.4.1->-r requirements.txt (line 6)) (10.0)\n",
      "Requirement already satisfied: pycparser in ./.venv/lib/python3.12/site-packages (from cffi>=1.12->cryptography>=3.1->unstructured-client->unstructured->unstructured-fileconverter-haystack==0.4.1->-r requirements.txt (line 2)) (2.22)\n"
     ]
    }
   ],
   "source": [
    "!pip install -r requirements.txt"
   ]
  },
  {
   "cell_type": "code",
   "execution_count": 12,
   "metadata": {},
   "outputs": [
    {
     "name": "stdout",
     "output_type": "stream",
     "text": [
      "UEECnVEu3ca8GU209hsfTicmpB85Py\n",
      "3\n"
     ]
    }
   ],
   "source": [
    "import dotenv\n",
    "import os\n",
    "\n",
    "dotenv.load_dotenv(\".env\", override=True)\n",
    "print(os.getenv(\"UNSTRUCTURED_API_KEY\"))\n",
    "print(os.getenv(\"HOW_MANY\"))"
   ]
  },
  {
   "cell_type": "markdown",
   "metadata": {},
   "source": [
    "# Generating the answers"
   ]
  },
  {
   "cell_type": "markdown",
   "metadata": {},
   "source": [
    "## Loading questions"
   ]
  },
  {
   "cell_type": "code",
   "execution_count": 13,
   "metadata": {},
   "outputs": [],
   "source": [
    "import pandas as pd\n",
    "import os\n",
    "df = pd.read_csv('dataset.csv', delimiter=',')\n",
    "questions = df['question'].tolist()[:int(os.getenv(\"HOW_MANY\"))]\n",
    "ground_truths = df['correct'].tolist()[:int(os.getenv(\"HOW_MANY\"))]\n",
    "\n",
    "indeces = df['id'].tolist()[:int(os.getenv(\"HOW_MANY\"))]\n",
    "\n",
    "filenames = os.listdir(os.getenv(\"LOCAL_FILE_INPUT_DIR\"))\n",
    "\n",
    "    #filepaths = [os.path.join(os.getenv(\"LOCAL_FILE_INPUT_DIR\"), filename) for filename in filenames if not filename.startswith(\".\")]\n",
    "filepaths = [os.path.join(os.getenv(\"LOCAL_FILE_INPUT_DIR\"), filename) for filename in filenames if os.path.splitext(filename)[0] in indeces]\n"
   ]
  },
  {
   "cell_type": "markdown",
   "metadata": {},
   "source": [
    "## Indexing "
   ]
  },
  {
   "cell_type": "code",
   "execution_count": 31,
   "metadata": {},
   "outputs": [
    {
     "name": "stderr",
     "output_type": "stream",
     "text": [
      "INFO: Warming up component sparse_doc_embedder...\n",
      "INFO: Warming up component dense_doc_embedder...\n",
      "INFO: Running component converter\n"
     ]
    },
    {
     "name": "stderr",
     "output_type": "stream",
     "text": [
      "Converting files to Haystack Documents: 0it [00:00, ?it/s]WARNING: 'split_pdf_cache_tmp_data' does not exist. Using default value '/tmp'.\n",
      "INFO: HTTP Request: POST https://api.unstructuredapp.io/general/v0/general \"HTTP/1.1 200 OK\"\n",
      "Converting files to Haystack Documents: 1it [00:05,  5.18s/it]WARNING: 'split_pdf_cache_tmp_data' does not exist. Using default value '/tmp'.\n",
      "INFO: HTTP Request: GET https://api.unstructuredapp.io/general/docs \"HTTP/1.1 200 OK\"\n",
      "INFO: HTTP Request: POST https://api.unstructuredapp.io/general/v0/general \"HTTP/1.1 200 OK\"\n",
      "INFO: HTTP Request: POST https://api.unstructuredapp.io/general/v0/general \"HTTP/1.1 200 OK\"\n",
      "Converting files to Haystack Documents: 2it [00:16,  8.56s/it]WARNING: 'split_pdf_cache_tmp_data' does not exist. Using default value '/tmp'.\n",
      "INFO: HTTP Request: POST https://api.unstructuredapp.io/general/v0/general \"HTTP/1.1 200 OK\"\n",
      "Converting files to Haystack Documents: 3it [00:21,  7.15s/it]\n",
      "INFO: Running component sparse_doc_embedder\n",
      "Calculating sparse embeddings: 100%|██████████| 67/67 [00:00<00:00, 83.62it/s]\n",
      "INFO: Running component dense_doc_embedder\n",
      "Calculating embeddings: 100%|██████████| 67/67 [00:03<00:00, 21.76it/s]\n",
      "INFO: Running component writer\n",
      "INFO: HTTP Request: GET http://localhost:6333/collections/haystack_index/exists \"HTTP/1.1 200 OK\"\n",
      "INFO: HTTP Request: DELETE http://localhost:6333/collections/haystack_index \"HTTP/1.1 200 OK\"\n",
      "INFO: HTTP Request: PUT http://localhost:6333/collections/haystack_index \"HTTP/1.1 200 OK\"\n",
      "INFO: HTTP Request: GET http://localhost:6333/collections/haystack_index/exists \"HTTP/1.1 200 OK\"\n",
      "INFO: HTTP Request: GET http://localhost:6333/collections/haystack_index \"HTTP/1.1 200 OK\"\n",
      "  0%|          | 0/67 [00:00<?, ?it/s]INFO: HTTP Request: PUT http://localhost:6333/collections/haystack_index/points?wait=true \"HTTP/1.1 200 OK\"\n",
      "100it [00:00, 332.95it/s]             \n"
     ]
    },
    {
     "data": {
      "text/plain": [
       "{'writer': {'documents_written': 67}}"
      ]
     },
     "execution_count": 31,
     "metadata": {},
     "output_type": "execute_result"
    }
   ],
   "source": [
    "from haystack_integrations.components.converters.unstructured import UnstructuredFileConverter\n",
    "from haystack_integrations.components.embedders.fastembed import FastembedSparseDocumentEmbedder, FastembedDocumentEmbedder\n",
    "from haystack_integrations.components.retrievers.qdrant import QdrantHybridRetriever\n",
    "from haystack_integrations.components.embedders.fastembed import FastembedTextEmbedder, FastembedSparseTextEmbedder\n",
    "from haystack_integrations.document_stores.qdrant import QdrantDocumentStore\n",
    "from haystack.components.writers import DocumentWriter\n",
    "from haystack.document_stores.types import DuplicatePolicy\n",
    "from haystack import Document, Pipeline\n",
    "\n",
    "qdrant_db_sparse = QdrantDocumentStore(\n",
    "    url=\"http://localhost:6333\",  # Adjust this if your Qdrant is hosted elsewhere\n",
    "    index=\"haystack_index\",      # Use the name of your existing Qdrant index\n",
    "    recreate_index=True,         # Ensure we don't overwrite the existing database\n",
    "    embedding_dim=384,\n",
    "    return_embedding=True,       # Return embeddings from Qdrant\n",
    "    use_sparse_embeddings=True,\n",
    "    sparse_idf=True\n",
    ")\n",
    "\n",
    "doc_embedder = FastembedDocumentEmbedder(model=\"BAAI/bge-small-en-v1.5\")\n",
    "doc_embedder.warm_up()\n",
    "sparse_doc_embedder = FastembedSparseDocumentEmbedder(model=\"Qdrant/bm42-all-minilm-l6-v2-attentions\")\n",
    "sparse_doc_embedder.warm_up()\n",
    "\n",
    "\n",
    "hybrid_indexing = Pipeline()\n",
    "hybrid_indexing.add_component(\"converter\", UnstructuredFileConverter(\n",
    "    api_url=\"https://api.unstructuredapp.io/general/v0/general\",\n",
    "    document_creation_mode=\"one-doc-per-element\"\n",
    "))\n",
    "hybrid_indexing.add_component(\"sparse_doc_embedder\", FastembedSparseDocumentEmbedder(model=\"Qdrant/bm42-all-minilm-l6-v2-attentions\"))\n",
    "hybrid_indexing.add_component(\"dense_doc_embedder\", FastembedDocumentEmbedder(model=\"BAAI/bge-small-en-v1.5\"))\n",
    "hybrid_indexing.add_component(\"writer\", DocumentWriter(document_store=qdrant_db_sparse, policy=DuplicatePolicy.OVERWRITE))\n",
    "\n",
    "hybrid_indexing.connect(\"converter\", \"sparse_doc_embedder\")\n",
    "hybrid_indexing.connect(\"sparse_doc_embedder\", \"dense_doc_embedder\")\n",
    "hybrid_indexing.connect(\"dense_doc_embedder\", \"writer\")\n",
    "\n",
    "hybrid_indexing.run({\"paths\": filepaths})"
   ]
  },
  {
   "cell_type": "markdown",
   "metadata": {},
   "source": [
    "## Retreiver"
   ]
  },
  {
   "cell_type": "code",
   "execution_count": 15,
   "metadata": {},
   "outputs": [
    {
     "name": "stdout",
     "output_type": "stream",
     "text": [
      "When was Fernando Eid born?\n"
     ]
    },
    {
     "name": "stderr",
     "output_type": "stream",
     "text": [
      "Calculating sparse embeddings: 100%|██████████| 1/1 [00:00<00:00, 296.94it/s]\n",
      "Calculating embeddings: 100%|██████████| 1/1 [00:00<00:00, 24.02it/s]\n"
     ]
    },
    {
     "name": "stdout",
     "output_type": "stream",
     "text": [
      "What is the altitude range of the Zbrašov aragonite caves?\n"
     ]
    },
    {
     "name": "stderr",
     "output_type": "stream",
     "text": [
      "Calculating sparse embeddings: 100%|██████████| 1/1 [00:00<00:00, 114.93it/s]\n",
      "Calculating embeddings: 100%|██████████| 1/1 [00:00<00:00, 13.96it/s]\n"
     ]
    },
    {
     "name": "stdout",
     "output_type": "stream",
     "text": [
      "When was the new station opened?\n"
     ]
    },
    {
     "name": "stderr",
     "output_type": "stream",
     "text": [
      "Calculating sparse embeddings: 100%|██████████| 1/1 [00:00<00:00, 114.31it/s]\n",
      "Calculating embeddings: 100%|██████████| 1/1 [00:00<00:00, 19.00it/s]\n"
     ]
    }
   ],
   "source": [
    "from haystack_integrations.components.converters.unstructured import UnstructuredFileConverter\n",
    "from haystack_integrations.components.embedders.fastembed import FastembedSparseDocumentEmbedder, FastembedDocumentEmbedder\n",
    "from haystack_integrations.components.retrievers.qdrant import QdrantHybridRetriever\n",
    "from haystack_integrations.components.embedders.fastembed import FastembedTextEmbedder, FastembedSparseTextEmbedder\n",
    "from haystack_integrations.document_stores.qdrant import QdrantDocumentStore\n",
    "from haystack.components.writers import DocumentWriter\n",
    "from haystack.document_stores.types import DuplicatePolicy\n",
    "from haystack import Document, Pipeline\n",
    "from haystack_integrations.components.generators.ollama import OllamaGenerator\n",
    "import csv\n",
    "\n",
    "qdrant_db_sparse = QdrantDocumentStore(\n",
    "    url=\"http://localhost:6333\",  # Adjust this if your Qdrant is hosted elsewhere\n",
    "    index=\"haystack_index\",      # Use the name of your existing Qdrant index\n",
    "    recreate_index=False,         # Ensure we don't overwrite the existing database\n",
    "    return_embedding=True,       # Return embeddings from Qdrant\n",
    "    use_sparse_embeddings=True,\n",
    "    sparse_idf=True,\n",
    "    embedding_dim=384\n",
    ")\n",
    "\n",
    "system_prompt = \"You are a helpful assistant. Answer the question based on the provided information. Answer concisely and informatively. If you don't know the answer, say so.\"\n",
    "generation_kwargs = {\n",
    "    \"seed\": 42,\n",
    "    # \"temperature\": 0.8,\n",
    "    # \"repeat_penalty\": 1.1,\n",
    "    # \"num_predict\": 128, # max number of tokens to generate\n",
    "    # \"top_k\": 50, # top-k sampling\n",
    "    # \"top_p\": 0.9, # top-p sampling\n",
    "    # \"min_p\": 0.0 # filter out token with probability less than this\n",
    "}\n",
    "generator = OllamaGenerator(model=\"llama3.2:1b\",\n",
    "                            url = \"http://localhost:11434\",\n",
    "                            system_prompt=system_prompt,\n",
    "                            generation_kwargs=generation_kwargs)\n",
    "\n",
    "doc_embedder = FastembedDocumentEmbedder(model=\"BAAI/bge-small-en-v1.5\")\n",
    "doc_embedder.warm_up()\n",
    "sparse_doc_embedder = FastembedSparseDocumentEmbedder(model=\"Qdrant/bm42-all-minilm-l6-v2-attentions\")\n",
    "sparse_doc_embedder.warm_up()\n",
    "\n",
    "hybrid_query = Pipeline()\n",
    "hybrid_query.add_component(\"sparse_text_embedder\", FastembedSparseTextEmbedder(model=\"Qdrant/bm42-all-minilm-l6-v2-attentions\"))\n",
    "hybrid_query.add_component(\"dense_text_embedder\", FastembedTextEmbedder(model=\"BAAI/bge-small-en-v1.5\", prefix=\"Represent this sentence for searching relevant passages: \"))\n",
    "hybrid_query.add_component(\"retriever\", QdrantHybridRetriever(document_store=qdrant_db_sparse, top_k=5))\n",
    "\n",
    "hybrid_query.connect(\"sparse_text_embedder.sparse_embedding\", \"retriever.query_sparse_embedding\")\n",
    "hybrid_query.connect(\"dense_text_embedder.embedding\", \"retriever.query_embedding\")\n",
    "\n",
    "prompt_template = \"\"\"\n",
    "{sources_text}\n",
    "\n",
    "{question}\n",
    "\"\"\"\n",
    "with open(\"final.csv\", 'w') as f:\n",
    "    writer = csv.writer(f, delimiter=\"|\")\n",
    "    writer.writerow([\"question\",\"ground_truth\",\"gen_answer\"])\n",
    "    for i,question  in enumerate(questions):\n",
    "        results = hybrid_query.run(\n",
    "            {\"dense_text_embedder\": {\"text\": question},\n",
    "            \"sparse_text_embedder\": {\"text\": question}}\n",
    "        )\n",
    "        sources = [result.content for result in results[\"retriever\"][\"documents\"]]\n",
    "        prompt = prompt_template.format(sources_text=\"\\n\\n\".join(sources), question=question)\n",
    "\n",
    "        gen_answer = generator.run(prompt, generation_kwargs=generation_kwargs)[\"replies\"]\n",
    "        writer.writerow([question, ground_truths[i], gen_answer[0]])"
   ]
  }
 ],
 "metadata": {
  "kernelspec": {
   "display_name": ".venv",
   "language": "python",
   "name": "python3"
  },
  "language_info": {
   "codemirror_mode": {
    "name": "ipython",
    "version": 3
   },
   "file_extension": ".py",
   "mimetype": "text/x-python",
   "name": "python",
   "nbconvert_exporter": "python",
   "pygments_lexer": "ipython3",
   "version": "3.12.3"
  }
 },
 "nbformat": 4,
 "nbformat_minor": 2
}
